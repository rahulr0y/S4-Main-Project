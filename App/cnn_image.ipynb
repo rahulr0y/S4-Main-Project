{
  "cells": [
    {
      "cell_type": "code",
      "source": [
        "%tensorflow_version 2.x\n",
        "import tensorflow as tf\n",
        "print(\"Tensorflow version \" + tf.__version__)\n",
        "\n",
        "try:\n",
        "  tpu = tf.distribute.cluster_resolver.TPUClusterResolver()  # TPU detection\n",
        "  print('Running on TPU ', tpu.cluster_spec().as_dict()['worker'])\n",
        "except ValueError:\n",
        "  raise BaseException('ERROR: Not connected to a TPU runtime; please see the previous cell in this notebook for instructions!')\n",
        "\n",
        "tf.config.experimental_connect_to_cluster(tpu)\n",
        "tf.tpu.experimental.initialize_tpu_system(tpu)\n",
        "tpu_strategy = tf.distribute.experimental.TPUStrategy(tpu)"
      ],
      "metadata": {
        "id": "r8J2pxnWYyRS"
      },
      "execution_count": null,
      "outputs": []
    },
    {
      "cell_type": "code",
      "execution_count": null,
      "metadata": {
        "id": "Ref44-z3fm8s"
      },
      "outputs": [],
      "source": [
        "!git clone https://github.com/rahulr0y/S4-Main-Project.git\n",
        "!unzip ./S4-Main-Project/img/*.zip -d ./S4-Main-Project/img\n",
        "path=\"./S4-Main-Project/img/\""
      ]
    },
    {
      "cell_type": "code",
      "execution_count": null,
      "metadata": {
        "colab": {
          "base_uri": "https://localhost:8080/"
        },
        "id": "OPC3V4dCft3a",
        "outputId": "5029c2fe-427c-451a-e1ee-9207350e7e68"
      },
      "outputs": [
        {
          "output_type": "stream",
          "name": "stdout",
          "text": [
            "Number of samples 600\n"
          ]
        },
        {
          "output_type": "stream",
          "name": "stderr",
          "text": [
            "/usr/local/lib/python3.7/dist-packages/ipykernel_launcher.py:28: FutureWarning: rgb2grey is deprecated. It will be removed in version 0.19.Please use rgb2gray instead.\n",
            "/usr/local/lib/python3.7/dist-packages/skimage/color/colorconv.py:794: FutureWarning: Non RGB image conversion is now deprecated. For RGBA images, please use rgb2gray(rgba2rgb(rgb)) instead. In version 0.19, a ValueError will be raised if input image last dimension length is not 3.\n",
            "  return rgb2gray(rgb)\n"
          ]
        },
        {
          "output_type": "stream",
          "name": "stdout",
          "text": [
            "200\n",
            "400\n",
            "600\n",
            "(360, 540, 1080) (120, 540, 1080)\n"
          ]
        }
      ],
      "source": [
        "import numpy as np\n",
        "import glob\n",
        "import matplotlib.pyplot as plt\n",
        "from skimage.color import rgb2grey\n",
        "from matplotlib.image import imread\n",
        "#!pip install -q keras\n",
        "from keras.models import Sequential\n",
        "from keras.models import Sequential\n",
        "from keras.layers import Conv2D, MaxPooling2D, Dense, Flatten, Activation, ReLU, Dropout\n",
        "from tensorflow.keras.utils import to_categorical\n",
        "\n",
        "class_names = ['flute', 'viola', 'cello', 'oboe', 'trumpet', 'saxophone']\n",
        "number_of_classes = len(class_names)\n",
        "\n",
        "instruments = {'flute':1, 'viola':2, 'cello':3, 'oboe':4, 'trumpet':5, 'saxophone':6}\n",
        "\n",
        "files = glob.glob('S4-Main-Project/img/*.png')\n",
        "np.random.shuffle(files)\n",
        "\n",
        "data, labels = [], []\n",
        "\n",
        "loaded = 0\n",
        "\n",
        "print('Number of samples {0}'.format(len(files)))\n",
        "\n",
        "for file in files:\n",
        "  img, name = imread(file), file.split('/')[-1].split('_')[0]\n",
        "  data.append(rgb2grey(img))\n",
        "  labels.append(instruments[name] - 1)\n",
        "\n",
        "  loaded += 1\n",
        "  if loaded % 200 == 0:\n",
        "    print(loaded)\n",
        "\n",
        "  if loaded == 5000:\n",
        "    break\n",
        "\n",
        "data, labels = np.array(data), np.array(labels)\n",
        "\n",
        "s_60p, s_20p = int(len(data) * 0.6), int(len(data) * 0.2)\n",
        "\n",
        "X_train, y_train = data[:s_60p], labels[:s_60p] #60%\n",
        "X_validation, y_validation = data[s_60p: s_60p + s_20p], labels[s_60p: s_60p + s_20p]  #20%\n",
        "X_test, y_test = data[s_60p + s_20p:], labels[s_60p + s_20p:] #20%\n",
        "\n",
        "print(X_train.shape, X_test.shape)\n"
      ]
    },
    {
      "cell_type": "code",
      "execution_count": null,
      "metadata": {
        "colab": {
          "base_uri": "https://localhost:8080/"
        },
        "id": "Q4KBK3t-f44e",
        "outputId": "ef67a338-6820-451a-a6d7-ce785b3fbbd5"
      },
      "outputs": [
        {
          "output_type": "stream",
          "name": "stdout",
          "text": [
            "(120, 540, 1080) (120,)\n"
          ]
        }
      ],
      "source": [
        "print(X_validation.shape, y_validation.shape)"
      ]
    },
    {
      "cell_type": "code",
      "execution_count": null,
      "metadata": {
        "colab": {
          "base_uri": "https://localhost:8080/"
        },
        "id": "Ywa2HEh3gIQH",
        "outputId": "0388236e-0d47-4965-e0f8-205c2e574d37"
      },
      "outputs": [
        {
          "output_type": "stream",
          "name": "stdout",
          "text": [
            "Dataset has been loaded succesfully.\n",
            "(360, 540, 1080, 1) (360,)\n",
            "(120, 540, 1080, 1) (120,)\n",
            "(360, 6)\n",
            "(120, 6)\n",
            "(540, 1080, 1)\n"
          ]
        }
      ],
      "source": [
        "X_train = X_train.reshape(X_train.shape[0], 540, 1080,1)\n",
        "X_test = X_test.reshape(X_test.shape[0], 540, 1080, 1)\n",
        "X_validation = X_validation.reshape(X_validation.shape[0], 540, 1080, 1)\n",
        "\n",
        "print('Dataset has been loaded succesfully.')\n",
        "print(X_train.shape, y_train.shape)\n",
        "print(X_validation.shape, y_validation.shape)\n",
        "\n",
        "print(to_categorical(y_train).shape)\n",
        "print(to_categorical(y_validation).shape)\n",
        "print(X_train.shape[1:])\n",
        "\n",
        "epochs = 30"
      ]
    },
    {
      "cell_type": "code",
      "execution_count": null,
      "metadata": {
        "id": "CF9GbOzzgMSz",
        "colab": {
          "base_uri": "https://localhost:8080/"
        },
        "outputId": "37961f97-f460-4554-b24e-7411d0ca48b7"
      },
      "outputs": [
        {
          "output_type": "stream",
          "name": "stdout",
          "text": [
            "Model: \"sequential\"\n",
            "_________________________________________________________________\n",
            " Layer (type)                Output Shape              Param #   \n",
            "=================================================================\n",
            " conv2d (Conv2D)             (None, 538, 1078, 32)     320       \n",
            "                                                                 \n",
            " activation (Activation)     (None, 538, 1078, 32)     0         \n",
            "                                                                 \n",
            " conv2d_1 (Conv2D)           (None, 536, 1076, 32)     9248      \n",
            "                                                                 \n",
            " activation_1 (Activation)   (None, 536, 1076, 32)     0         \n",
            "                                                                 \n",
            " max_pooling2d (MaxPooling2D  (None, 178, 358, 32)     0         \n",
            " )                                                               \n",
            "                                                                 \n",
            " dropout (Dropout)           (None, 178, 358, 32)      0         \n",
            "                                                                 \n",
            " conv2d_2 (Conv2D)           (None, 178, 358, 64)      18496     \n",
            "                                                                 \n",
            " activation_2 (Activation)   (None, 178, 358, 64)      0         \n",
            "                                                                 \n",
            " conv2d_3 (Conv2D)           (None, 176, 356, 64)      36928     \n",
            "                                                                 \n",
            " activation_3 (Activation)   (None, 176, 356, 64)      0         \n",
            "                                                                 \n",
            " max_pooling2d_1 (MaxPooling  (None, 58, 118, 64)      0         \n",
            " 2D)                                                             \n",
            "                                                                 \n",
            " dropout_1 (Dropout)         (None, 58, 118, 64)       0         \n",
            "                                                                 \n",
            " conv2d_4 (Conv2D)           (None, 58, 118, 128)      73856     \n",
            "                                                                 \n",
            " activation_4 (Activation)   (None, 58, 118, 128)      0         \n",
            "                                                                 \n",
            " conv2d_5 (Conv2D)           (None, 56, 116, 128)      147584    \n",
            "                                                                 \n",
            " activation_5 (Activation)   (None, 56, 116, 128)      0         \n",
            "                                                                 \n",
            " max_pooling2d_2 (MaxPooling  (None, 18, 38, 128)      0         \n",
            " 2D)                                                             \n",
            "                                                                 \n",
            " dropout_2 (Dropout)         (None, 18, 38, 128)       0         \n",
            "                                                                 \n",
            " flatten (Flatten)           (None, 87552)             0         \n",
            "                                                                 \n",
            " dense (Dense)               (None, 128)               11206784  \n",
            "                                                                 \n",
            " activation_6 (Activation)   (None, 128)               0         \n",
            "                                                                 \n",
            " dropout_3 (Dropout)         (None, 128)               0         \n",
            "                                                                 \n",
            " dense_1 (Dense)             (None, 6)                 774       \n",
            "                                                                 \n",
            " activation_7 (Activation)   (None, 6)                 0         \n",
            "                                                                 \n",
            "=================================================================\n",
            "Total params: 11,493,990\n",
            "Trainable params: 11,493,990\n",
            "Non-trainable params: 0\n",
            "_________________________________________________________________\n",
            "None\n",
            "Fitting started...\n",
            "Epoch 1/30\n",
            "12/12 [==============================] - 94s 8s/step - loss: 1.8353 - accuracy: 0.1889 - val_loss: 1.7858 - val_accuracy: 0.2000\n",
            "Epoch 2/30\n",
            "12/12 [==============================] - 89s 7s/step - loss: 1.7370 - accuracy: 0.2722 - val_loss: 1.6889 - val_accuracy: 0.3833\n",
            "Epoch 3/30\n",
            "12/12 [==============================] - 88s 7s/step - loss: 1.6529 - accuracy: 0.3444 - val_loss: 1.6602 - val_accuracy: 0.3250\n",
            "Epoch 4/30\n",
            "12/12 [==============================] - 89s 7s/step - loss: 1.6294 - accuracy: 0.3194 - val_loss: 1.4308 - val_accuracy: 0.4500\n",
            "Epoch 5/30\n",
            "12/12 [==============================] - 89s 7s/step - loss: 1.4927 - accuracy: 0.4028 - val_loss: 1.2804 - val_accuracy: 0.5583\n",
            "Epoch 6/30\n",
            "12/12 [==============================] - 89s 7s/step - loss: 1.2813 - accuracy: 0.5222 - val_loss: 1.0044 - val_accuracy: 0.6333\n",
            "Epoch 7/30\n",
            "12/12 [==============================] - 89s 7s/step - loss: 0.9985 - accuracy: 0.6444 - val_loss: 0.7190 - val_accuracy: 0.7167\n",
            "Epoch 8/30\n",
            "12/12 [==============================] - 89s 7s/step - loss: 0.8111 - accuracy: 0.7250 - val_loss: 0.7594 - val_accuracy: 0.6917\n",
            "Epoch 9/30\n",
            "12/12 [==============================] - 89s 7s/step - loss: 0.7780 - accuracy: 0.7417 - val_loss: 0.6743 - val_accuracy: 0.7833\n",
            "Epoch 10/30\n",
            "12/12 [==============================] - 88s 7s/step - loss: 0.7052 - accuracy: 0.7611 - val_loss: 0.4335 - val_accuracy: 0.8583\n",
            "Epoch 11/30\n",
            "12/12 [==============================] - 90s 8s/step - loss: 0.4279 - accuracy: 0.8667 - val_loss: 0.4149 - val_accuracy: 0.8500\n",
            "Epoch 12/30\n",
            "12/12 [==============================] - 88s 7s/step - loss: 0.3386 - accuracy: 0.8778 - val_loss: 0.2961 - val_accuracy: 0.9167\n",
            "Epoch 13/30\n",
            "12/12 [==============================] - 88s 7s/step - loss: 0.3248 - accuracy: 0.8806 - val_loss: 0.2582 - val_accuracy: 0.9000\n",
            "Epoch 14/30\n",
            "12/12 [==============================] - 90s 7s/step - loss: 0.2669 - accuracy: 0.9222 - val_loss: 0.1925 - val_accuracy: 0.9500\n",
            "Epoch 15/30\n",
            "12/12 [==============================] - 89s 7s/step - loss: 0.2364 - accuracy: 0.9194 - val_loss: 0.2263 - val_accuracy: 0.9417\n",
            "Epoch 16/30\n",
            "12/12 [==============================] - 88s 7s/step - loss: 0.2341 - accuracy: 0.9222 - val_loss: 0.2751 - val_accuracy: 0.9083\n",
            "Epoch 17/30\n",
            "12/12 [==============================] - 89s 7s/step - loss: 0.1852 - accuracy: 0.9222 - val_loss: 0.2683 - val_accuracy: 0.9417\n",
            "Epoch 18/30\n",
            "12/12 [==============================] - 88s 7s/step - loss: 0.1535 - accuracy: 0.9444 - val_loss: 0.1723 - val_accuracy: 0.9500\n",
            "Epoch 19/30\n",
            "12/12 [==============================] - 90s 8s/step - loss: 0.1810 - accuracy: 0.9250 - val_loss: 0.1757 - val_accuracy: 0.9500\n",
            "Epoch 20/30\n",
            "12/12 [==============================] - 89s 7s/step - loss: 0.1463 - accuracy: 0.9472 - val_loss: 0.2244 - val_accuracy: 0.9250\n",
            "Epoch 21/30\n",
            "12/12 [==============================] - 89s 7s/step - loss: 0.1521 - accuracy: 0.9417 - val_loss: 0.1267 - val_accuracy: 0.9500\n",
            "Epoch 22/30\n",
            "12/12 [==============================] - 89s 7s/step - loss: 0.0926 - accuracy: 0.9639 - val_loss: 0.1193 - val_accuracy: 0.9667\n",
            "Epoch 23/30\n",
            "12/12 [==============================] - 89s 7s/step - loss: 0.0957 - accuracy: 0.9694 - val_loss: 0.1226 - val_accuracy: 0.9833\n",
            "Epoch 24/30\n",
            "12/12 [==============================] - 88s 7s/step - loss: 0.1050 - accuracy: 0.9722 - val_loss: 0.1907 - val_accuracy: 0.9417\n",
            "Epoch 25/30\n",
            "12/12 [==============================] - 89s 7s/step - loss: 0.0710 - accuracy: 0.9667 - val_loss: 0.1369 - val_accuracy: 0.9750\n",
            "Epoch 26/30\n",
            "12/12 [==============================] - 89s 7s/step - loss: 0.0858 - accuracy: 0.9806 - val_loss: 0.2377 - val_accuracy: 0.9333\n",
            "Epoch 27/30\n",
            "12/12 [==============================] - 89s 7s/step - loss: 0.1649 - accuracy: 0.9528 - val_loss: 0.3645 - val_accuracy: 0.8500\n",
            "Epoch 28/30\n",
            "12/12 [==============================] - 89s 7s/step - loss: 0.1558 - accuracy: 0.9667 - val_loss: 0.1696 - val_accuracy: 0.9500\n",
            "Epoch 29/30\n",
            "12/12 [==============================] - 89s 7s/step - loss: 0.1643 - accuracy: 0.9472 - val_loss: 0.1614 - val_accuracy: 0.9417\n",
            "Epoch 30/30\n",
            "12/12 [==============================] - 90s 8s/step - loss: 0.1290 - accuracy: 0.9611 - val_loss: 0.0956 - val_accuracy: 0.9750\n"
          ]
        }
      ],
      "source": [
        "\n",
        "\n",
        "model = Sequential([\n",
        "        Conv2D(32, (3, 3), input_shape=(540, 1080, 1)),\n",
        "        Activation('relu'),\n",
        "        Conv2D(32, (3, 3)),\n",
        "        Activation('relu'),\n",
        "        MaxPooling2D(pool_size=(3, 3)),\n",
        "        Dropout(0.25),\n",
        "\n",
        "        Conv2D(64, (3,3), padding='same'),\n",
        "        Activation('relu'),\n",
        "        Conv2D(64, (3, 3)),\n",
        "        Activation('relu'),\n",
        "        MaxPooling2D(pool_size=(3, 3)),\n",
        "        Dropout(0.25),\n",
        "\n",
        "        Conv2D(128, (3, 3), padding='same'),\n",
        "        Activation('relu'),\n",
        "        Conv2D(128, (3, 3)),\n",
        "        Activation('relu'),\n",
        "        MaxPooling2D(pool_size=(3, 3)),\n",
        "        Dropout(0.25),\n",
        "\n",
        "        Flatten(),\n",
        "        Dense(128),\n",
        "        Activation('relu'),\n",
        "        Dropout(0.5),\n",
        "        Dense(number_of_classes),\n",
        "        Activation('softmax')\n",
        "    ])\n",
        "\n",
        "model.compile('adam', loss='categorical_crossentropy', metrics=['accuracy'])\n",
        "print(model.summary())\n",
        "\n",
        "print('Fitting started...')\n",
        "history = model.fit(X_train, to_categorical(y_train), epochs=epochs, validation_data=(X_validation, to_categorical(y_validation)))\n",
        "\n"
      ]
    },
    {
      "cell_type": "code",
      "execution_count": null,
      "metadata": {
        "id": "pVi_NhSlg2xy"
      },
      "outputs": [],
      "source": [
        "import pickle"
      ]
    },
    {
      "cell_type": "code",
      "execution_count": null,
      "metadata": {
        "id": "W93EFHoAgb0r"
      },
      "outputs": [],
      "source": [
        "model = pickle.load(open('/content/drive/MyDrive/model/cnn.pkl', 'rb'))\n",
        "model.summary()"
      ]
    },
    {
      "cell_type": "code",
      "source": [
        "import json\n",
        "# Get the dictionary containing each metric and the loss for each epoch\n",
        "history_dict = history.history\n",
        "# Save it under the form of a json file\n",
        "json.dump(history_dict, open(\"history\", 'w'))\n",
        "\n",
        "\n",
        "hi = json.load(open(\"history\", 'r'))"
      ],
      "metadata": {
        "id": "eDe8x6JpkAco"
      },
      "execution_count": null,
      "outputs": []
    },
    {
      "cell_type": "code",
      "source": [
        "print(hi['loss'][20])\n"
      ],
      "metadata": {
        "colab": {
          "base_uri": "https://localhost:8080/"
        },
        "id": "KZvPokL6lrfG",
        "outputId": "bef04f29-cdae-482b-82ed-cff0281507bc"
      },
      "execution_count": null,
      "outputs": [
        {
          "output_type": "stream",
          "name": "stdout",
          "text": [
            "0.15210360288619995\n"
          ]
        }
      ]
    },
    {
      "cell_type": "code",
      "execution_count": null,
      "metadata": {
        "colab": {
          "base_uri": "https://localhost:8080/",
          "height": 610
        },
        "id": "mKMlpA3-gPij",
        "outputId": "a12bc5b1-0746-4c1b-a392-0f28784921aa"
      },
      "outputs": [
        {
          "output_type": "stream",
          "name": "stdout",
          "text": [
            "{'loss': [1.8352620601654053, 1.7369886636734009, 1.652949333190918, 1.629384994506836, 1.492729902267456, 1.2812690734863281, 0.9984570741653442, 0.8110697269439697, 0.7779820561408997, 0.7052377462387085, 0.4278896450996399, 0.3386267423629761, 0.32476216554641724, 0.26687392592430115, 0.23637641966342926, 0.23413380980491638, 0.18523487448692322, 0.15349701046943665, 0.18101410567760468, 0.14632372558116913, 0.15210360288619995, 0.09258027374744415, 0.09567767381668091, 0.10502146929502487, 0.07104437798261642, 0.08578210324048996, 0.16494031250476837, 0.15584805607795715, 0.1642756313085556, 0.12897808849811554], 'accuracy': [0.18888889253139496, 0.27222222089767456, 0.3444444537162781, 0.3194444477558136, 0.4027777910232544, 0.5222222208976746, 0.644444465637207, 0.7250000238418579, 0.7416666746139526, 0.7611111402511597, 0.8666666746139526, 0.8777777552604675, 0.8805555701255798, 0.9222221970558167, 0.9194444417953491, 0.9222221970558167, 0.9222221970558167, 0.9444444179534912, 0.925000011920929, 0.9472222328186035, 0.9416666626930237, 0.9638888835906982, 0.9694444537162781, 0.9722222089767456, 0.9666666388511658, 0.980555534362793, 0.9527778029441833, 0.9666666388511658, 0.9472222328186035, 0.9611111283302307], 'val_loss': [1.7857941389083862, 1.6889042854309082, 1.6601775884628296, 1.4307937622070312, 1.2803674936294556, 1.0044465065002441, 0.7189978361129761, 0.7593804597854614, 0.6743472218513489, 0.4335252046585083, 0.4148624539375305, 0.2961495518684387, 0.25818341970443726, 0.19251742959022522, 0.22632969915866852, 0.2750522494316101, 0.26828378438949585, 0.17232580482959747, 0.17565447092056274, 0.22436536848545074, 0.12670670449733734, 0.11934152990579605, 0.12256177514791489, 0.19070151448249817, 0.13694313168525696, 0.23770640790462494, 0.36449986696243286, 0.16955271363258362, 0.16140632331371307, 0.09558621048927307], 'val_accuracy': [0.20000000298023224, 0.38333332538604736, 0.32499998807907104, 0.44999998807907104, 0.5583333373069763, 0.6333333253860474, 0.7166666388511658, 0.6916666626930237, 0.7833333611488342, 0.8583333492279053, 0.8500000238418579, 0.9166666865348816, 0.8999999761581421, 0.949999988079071, 0.9416666626930237, 0.9083333611488342, 0.9416666626930237, 0.949999988079071, 0.949999988079071, 0.925000011920929, 0.949999988079071, 0.9666666388511658, 0.9833333492279053, 0.9416666626930237, 0.9750000238418579, 0.9333333373069763, 0.8500000238418579, 0.949999988079071, 0.9416666626930237, 0.9750000238418579]}\n"
          ]
        },
        {
          "output_type": "display_data",
          "data": {
            "text/plain": [
              "<Figure size 432x288 with 1 Axes>"
            ],
            "image/png": "[encoded data removed]"
          },
          "metadata": {
            "needs_background": "light"
          }
        },
        {
          "output_type": "display_data",
          "data": {
            "text/plain": [
              "<Figure size 432x288 with 1 Axes>"
            ],
            "image/png": "[encoded data removed]"
          },
          "metadata": {
            "needs_background": "light"
          }
        }
      ],
      "source": [
        "#model accuracy\n",
        "print(history.history)\n",
        "plt.plot(history.history['accuracy'])\n",
        "plt.plot(history.history['val_accuracy'])\n",
        "plt.title('Model accuracy')\n",
        "plt.ylabel('Accuracy')\n",
        "plt.xlabel('Epoch')\n",
        "plt.legend(['Train', 'Valid'], loc='upper left')\n",
        "plt.show()\n",
        "\n",
        "#model loss\n",
        "plt.plot(history.history['loss'])\n",
        "plt.plot(history.history['val_loss'])\n",
        "plt.title('Model loss')\n",
        "plt.ylabel('Loss')\n",
        "plt.xlabel('Epoch')\n",
        "plt.legend(['Train', 'Valid'], loc='upper left')\n",
        "plt.show()"
      ]
    },
    {
      "cell_type": "code",
      "execution_count": null,
      "metadata": {
        "id": "gNAsBmOIgY1-",
        "colab": {
          "base_uri": "https://localhost:8080/"
        },
        "outputId": "12fbdd6f-571e-482c-95e9-812f2e130302"
      },
      "outputs": [
        {
          "output_type": "stream",
          "name": "stdout",
          "text": [
            "4/4 [==============================] - 2s 363ms/step - loss: 0.1575 - accuracy: 0.9583\n",
            "[0.15746483206748962, 0.9583333134651184]\n"
          ]
        }
      ],
      "source": [
        "scores = model.evaluate(X_test, to_categorical(y_test), verbose=1)\n",
        "print(scores)"
      ]
    },
    {
      "cell_type": "code",
      "execution_count": null,
      "metadata": {
        "id": "s54lzv2MnuRu"
      },
      "outputs": [],
      "source": [
        "import numpy as np\n",
        "import glob\n",
        "import matplotlib.pyplot as plt\n",
        "from skimage.color import rgb2grey\n",
        "from matplotlib.image import imread\n",
        "#!pip install -q keras\n",
        "from keras.models import Sequential\n",
        "from keras.models import Sequential\n",
        "from keras.layers import Conv2D, MaxPooling2D, Dense, Flatten, Activation, ReLU, Dropout\n",
        "from tensorflow.keras.utils import to_categorical\n",
        "from skimage.color import rgb2grey\n",
        "from matplotlib.image import imread\n",
        "import pandas as pd \n",
        "import numpy as np\n",
        "import librosa\n",
        "import librosa.display\n",
        "import IPython.display as ipd\n",
        "import matplotlib.pyplot as plt"
      ]
    },
    {
      "cell_type": "code",
      "execution_count": null,
      "metadata": {
        "colab": {
          "base_uri": "https://localhost:8080/",
          "height": 385
        },
        "id": "oudA1UYbr4um",
        "outputId": "8d20db7f-79c1-4f5a-a63a-0ba3ee100e85"
      },
      "outputs": [
        {
          "output_type": "stream",
          "name": "stderr",
          "text": [
            "/usr/local/lib/python3.7/dist-packages/librosa/core/audio.py:165: UserWarning: PySoundFile failed. Trying audioread instead.\n",
            "  warnings.warn(\"PySoundFile failed. Trying audioread instead.\")\n"
          ]
        },
        {
          "output_type": "display_data",
          "data": {
            "text/plain": [
              "<Figure size 1080x540 with 1 Axes>"
            ],
            "image/png": "[encoded data removed]"
          },
          "metadata": {}
        }
      ],
      "source": [
        "f = 'cello.mp3'\n",
        "aud, sr = librosa.load(f, duration=5)\n",
        "mel_spectrogram = librosa.feature.melspectrogram(aud, sr=sr, n_fft=2048, hop_length=512, n_mels=120)\n",
        "log_mel_spectrogram = librosa.power_to_db(mel_spectrogram)\n",
        "fig, ax = plt.subplots(figsize=(15,7.5))\n",
        "librosa.display.specshow(log_mel_spectrogram,sr=sr)\n",
        "# plt.show()\n",
        "# png_path = path + 'spectrograms/' + label + '/' \n",
        "fig.savefig('temp.png', transparent=True)"
      ]
    },
    {
      "cell_type": "code",
      "execution_count": null,
      "metadata": {
        "colab": {
          "base_uri": "https://localhost:8080/"
        },
        "id": "B8FIfPLYj9uq",
        "outputId": "6a82b527-9324-49ae-dafe-45495face207"
      },
      "outputs": [
        {
          "output_type": "execute_result",
          "data": {
            "text/plain": [
              "(540, 1080, 4)"
            ]
          },
          "metadata": {},
          "execution_count": 25
        }
      ],
      "source": [
        "img = imread('temp.png')\n",
        "img = np.array(img)\n",
        "img.shape"
      ]
    },
    {
      "cell_type": "code",
      "execution_count": null,
      "metadata": {
        "colab": {
          "base_uri": "https://localhost:8080/"
        },
        "id": "FP8PzkGOsxRe",
        "outputId": "1e4034d1-fd61-4262-aae6-ca3ee3f8770e"
      },
      "outputs": [
        {
          "output_type": "stream",
          "name": "stderr",
          "text": [
            "/usr/local/lib/python3.7/dist-packages/ipykernel_launcher.py:2: FutureWarning: rgb2grey is deprecated. It will be removed in version 0.19.Please use rgb2gray instead.\n",
            "  \n",
            "/usr/local/lib/python3.7/dist-packages/skimage/color/colorconv.py:794: FutureWarning: Non RGB image conversion is now deprecated. For RGBA images, please use rgb2gray(rgba2rgb(rgb)) instead. In version 0.19, a ValueError will be raised if input image last dimension length is not 3.\n",
            "  return rgb2gray(rgb)\n"
          ]
        },
        {
          "output_type": "execute_result",
          "data": {
            "text/plain": [
              "(540, 1080)"
            ]
          },
          "metadata": {},
          "execution_count": 26
        }
      ],
      "source": [
        "\n",
        "img = rgb2grey(img)\n",
        "img = np.array(img)\n",
        "img.shape"
      ]
    },
    {
      "cell_type": "code",
      "execution_count": null,
      "metadata": {
        "id": "xQlU_tcLs3Wf"
      },
      "outputs": [],
      "source": [
        "img =img.reshape(1, 540, 1080, 1)"
      ]
    },
    {
      "cell_type": "code",
      "execution_count": null,
      "metadata": {
        "id": "H_8J_piPs-dA"
      },
      "outputs": [],
      "source": [
        "k = model.predict(img)"
      ]
    },
    {
      "cell_type": "code",
      "execution_count": null,
      "metadata": {
        "colab": {
          "base_uri": "https://localhost:8080/"
        },
        "id": "mXv4wP3fs_Vd",
        "outputId": "acd2924d-cc6a-4936-ec0f-c4442d02e630"
      },
      "outputs": [
        {
          "output_type": "execute_result",
          "data": {
            "text/plain": [
              "numpy.ndarray"
            ]
          },
          "metadata": {},
          "execution_count": 29
        }
      ],
      "source": [
        "type(k)"
      ]
    },
    {
      "cell_type": "code",
      "execution_count": null,
      "metadata": {
        "colab": {
          "base_uri": "https://localhost:8080/"
        },
        "id": "ivvoaiJrXdJA",
        "outputId": "9e98322b-6b1c-4de4-cce6-f18136f51a66"
      },
      "outputs": [
        {
          "output_type": "execute_result",
          "data": {
            "text/plain": [
              "array([[5.4228719e-04, 3.6918071e-01, 6.2949747e-01, 4.8539192e-07,\n",
              "        4.1648323e-07, 7.7869854e-04]], dtype=float32)"
            ]
          },
          "metadata": {},
          "execution_count": 30
        }
      ],
      "source": [
        "k"
      ]
    },
    {
      "cell_type": "code",
      "execution_count": null,
      "metadata": {
        "id": "sHhoqCDuW0WG"
      },
      "outputs": [],
      "source": [
        "result = np.argmax(k)"
      ]
    },
    {
      "cell_type": "code",
      "execution_count": null,
      "metadata": {
        "colab": {
          "base_uri": "https://localhost:8080/"
        },
        "id": "UgMOhtXmXW6O",
        "outputId": "0f14bd09-eab2-453c-8e41-eaa453dfbbb0"
      },
      "outputs": [
        {
          "output_type": "execute_result",
          "data": {
            "text/plain": [
              "2"
            ]
          },
          "metadata": {},
          "execution_count": 32
        }
      ],
      "source": [
        "result"
      ]
    },
    {
      "cell_type": "code",
      "execution_count": null,
      "metadata": {
        "colab": {
          "base_uri": "https://localhost:8080/",
          "height": 36
        },
        "id": "42AHx1lkXYAn",
        "outputId": "8917d201-a614-408e-f3a8-6d3b70f9f7b8"
      },
      "outputs": [
        {
          "output_type": "execute_result",
          "data": {
            "text/plain": [
              "'cello'"
            ],
            "application/vnd.google.colaboratory.intrinsic+json": {
              "type": "string"
            }
          },
          "metadata": {},
          "execution_count": 33
        }
      ],
      "source": [
        "class_names = ['flute', 'viola', 'cello', 'oboe', 'trumpet', 'saxophone']\n",
        "class_names[result]"
      ]
    }
  ],
  "metadata": {
    "colab": {
      "collapsed_sections": [],
      "name": "cnn_image.ipynb",
      "provenance": []
    },
    "kernelspec": {
      "display_name": "Python 3",
      "name": "python3"
    },
    "language_info": {
      "name": "python"
    },
    "accelerator": "TPU",
    "gpuClass": "standard"
  },
  "nbformat": 4,
  "nbformat_minor": 0
}